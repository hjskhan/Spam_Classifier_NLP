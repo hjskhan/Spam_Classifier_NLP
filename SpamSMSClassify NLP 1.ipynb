{
 "cells": [
  {
   "cell_type": "markdown",
   "id": "0024a64d",
   "metadata": {},
   "source": [
    "## Spam SMS Classification"
   ]
  },
  {
   "cell_type": "code",
   "execution_count": 122,
   "id": "3c068fd8",
   "metadata": {},
   "outputs": [
    {
     "name": "stdout",
     "output_type": "stream",
     "text": [
      "<class 'pandas.core.frame.DataFrame'>\n",
      "RangeIndex: 5572 entries, 0 to 5571\n",
      "Data columns (total 2 columns):\n",
      " #   Column   Non-Null Count  Dtype \n",
      "---  ------   --------------  ----- \n",
      " 0   Label    5572 non-null   object\n",
      " 1   Message  5572 non-null   object\n",
      "dtypes: object(2)\n",
      "memory usage: 87.2+ KB\n",
      "None   Label                                            Message\n",
      "0   ham  Go until jurong point, crazy.. Available only ...\n",
      "1   ham                      Ok lar... Joking wif u oni...\n",
      "2  spam  Free entry in 2 a wkly comp to win FA Cup fina...\n",
      "3   ham  U dun say so early hor... U c already then say...\n",
      "4   ham  Nah I don't think he goes to usf, he lives aro...\n"
     ]
    }
   ],
   "source": [
    "import pandas as pd\n",
    "import numpy as np\n",
    "#importing the dataframe, this data contains values as tab seperated\n",
    "data = pd.read_csv('SMSSpamCollection',sep='\\t',names=['Label','Message'])\n",
    "print(data.info(),data.head())"
   ]
  },
  {
   "cell_type": "markdown",
   "id": "62ce21e2",
   "metadata": {},
   "source": [
    "#### Data Preprocessing: Words Lemmatization"
   ]
  },
  {
   "cell_type": "code",
   "execution_count": 129,
   "id": "7ae83fe7",
   "metadata": {},
   "outputs": [
    {
     "data": {
      "text/plain": [
       "5572"
      ]
     },
     "execution_count": 129,
     "metadata": {},
     "output_type": "execute_result"
    }
   ],
   "source": [
    "import nltk\n",
    "import re\n",
    "from nltk.stem import WordNetLemmatizer\n",
    "from nltk.corpus import stopwords\n",
    "# Lemmatizing each row and saving it in words_lem and finally saving the output in corpus\n",
    "lemmitizer = WordNetLemmatizer()\n",
    "corpus = []\n",
    "for i in range(0,len(data['Message'])):\n",
    "    words_lem = re.sub('[^a-zA-Z]',' ',data['Message'][i])\n",
    "    words_lem = words_lem.lower()\n",
    "    words_lem = words_lem.split()\n",
    "    words_lem = [lemmitizer.lemmatize(word) for word in words_lem \n",
    "                 if word not in stopwords.words('english')]\n",
    "    corpus.append(' '.join(words_lem))\n",
    "len(corpus)"
   ]
  },
  {
   "cell_type": "markdown",
   "id": "c72dd1a4",
   "metadata": {},
   "source": [
    "#### Bag of Words"
   ]
  },
  {
   "cell_type": "code",
   "execution_count": 130,
   "id": "22584b14",
   "metadata": {},
   "outputs": [
    {
     "name": "stdout",
     "output_type": "stream",
     "text": [
      "accuracy 0.9838565022421525\n",
      "RMSE 0.12705706496628802\n"
     ]
    }
   ],
   "source": [
    "from sklearn.feature_extraction.text import CountVectorizer\n",
    "from sklearn.preprocessing import LabelEncoder\n",
    "CVect = CountVectorizer()\n",
    "le = LabelEncoder()\n",
    "X = CVect.fit_transform(corpus).toarray() # applying bag of words\n",
    "Y = le.fit_transform(data['Label']) # Label encoding the ham and spam values\n",
    "#-----------------------------\n",
    "# Model fitting: Bag of Words\n",
    "from sklearn.model_selection import train_test_split\n",
    "X_train,X_vald,Y_train,Y_vald = train_test_split(X,Y,random_state=1,train_size=0.8)\n",
    "# Logistic Regression\n",
    "from sklearn.linear_model import LogisticRegression\n",
    "from sklearn.metrics import mean_squared_error\n",
    "lg = LogisticRegression()\n",
    "model = lg.fit(X_train,Y_train)\n",
    "Y_predict = model.predict(X_vald)\n",
    "\n",
    "print('accuracy',model.score(X_vald,Y_vald))\n",
    "print('RMSE',np.sqrt(mean_squared_error(Y_vald,Y_predict)))"
   ]
  },
  {
   "cell_type": "markdown",
   "id": "a68dc2f1",
   "metadata": {},
   "source": [
    "#### TF_IDF"
   ]
  },
  {
   "cell_type": "code",
   "execution_count": 131,
   "id": "1552d2b0",
   "metadata": {},
   "outputs": [
    {
     "name": "stdout",
     "output_type": "stream",
     "text": [
      "accuracy 0.9551569506726457\n",
      "RMSE 0.21176177494381335\n"
     ]
    }
   ],
   "source": [
    "from sklearn.feature_extraction.text import TfidfTransformer\n",
    "from sklearn.feature_extraction.text import TfidfVectorizer\n",
    "from sklearn.preprocessing import LabelEncoder\n",
    "Vectorizer = TfidfVectorizer()\n",
    "tf_idf = TfidfTransformer()\n",
    "le = LabelEncoder()\n",
    "X = Vectorizer.fit_transform(corpus) # converting 'corpus' into vector matrix\n",
    "X = tf_idf.fit_transform(X) # TF_IDF Transformer\n",
    "Y = le.fit_transform(data['Label']) # Encoding 'Y'\n",
    "\n",
    "#--------------\n",
    "# Model Fitting\n",
    "from sklearn.model_selection import train_test_split\n",
    "X_train,X_vald,Y_train,Y_vald = train_test_split(X,Y,random_state=1,train_size=0.8)\n",
    "# Logistic Regression\n",
    "from sklearn.linear_model import LogisticRegression\n",
    "from sklearn.metrics import mean_squared_error\n",
    "lg = LogisticRegression()\n",
    "model = lg.fit(X_train,Y_train)\n",
    "Y_predict = model.predict(X_vald)\n",
    "\n",
    "print('accuracy',model.score(X_vald,Y_vald))\n",
    "print('RMSE',np.sqrt(mean_squared_error(Y_vald,Y_predict)))"
   ]
  }
 ],
 "metadata": {
  "kernelspec": {
   "display_name": "Python 3 (ipykernel)",
   "language": "python",
   "name": "python3"
  },
  "language_info": {
   "codemirror_mode": {
    "name": "ipython",
    "version": 3
   },
   "file_extension": ".py",
   "mimetype": "text/x-python",
   "name": "python",
   "nbconvert_exporter": "python",
   "pygments_lexer": "ipython3",
   "version": "3.9.12"
  }
 },
 "nbformat": 4,
 "nbformat_minor": 5
}
